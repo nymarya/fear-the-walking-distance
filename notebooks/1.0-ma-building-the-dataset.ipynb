{
 "cells": [
  {
   "cell_type": "code",
   "execution_count": 1,
   "metadata": {},
   "outputs": [],
   "source": [
    "# packages for dealing with Sidra API\n",
    "import requests\n",
    "import json\n",
    "\n",
    "# packages for treating the data\n",
    "import pandas as pd\n",
    "import pandana as pdna\n",
    "from pandana.loaders import osm\n",
    "import numpy as np\n",
    "import unidecode\n",
    "\n",
    "# packages for dealing with geographical data\n",
    "import geopandas as gpd\n",
    "from shapely.geometry import Point\n",
    "from shapely.geometry.polygon import Polygon\n",
    "\n",
    "import osmnx as ox\n",
    "from osmnx.distance import get_nearest_node\n"
   ]
  },
  {
   "cell_type": "markdown",
   "metadata": {},
   "source": [
    "## Building the dataset\n",
    "\n",
    "This project aims to measure the pedestrian acessibility in Natal, Brazil. With that in mind, we use data from [Sidra API](http://api.sidra.ibge.gov.br/) regarding the neighborhoods, average income and population size. Further, we calculate the smallest distance from a central point of the neighborhood to an amenity. All this informations togheter will become our dataset."
   ]
  },
  {
   "cell_type": "code",
   "execution_count": 2,
   "metadata": {},
   "outputs": [],
   "source": [
    "# Recover income by neighborhood in Natal (2010)\n",
    "# from Sidra's Table 3170 (http://api.sidra.ibge.gov.br/desctabapi.aspx?c=3170)\n",
    "headers = {\n",
    "    'Content-Type': 'application/json;charset=UTF-8',\n",
    "    'User-Agent': 'google-colab',\n",
    "    'Accept': 'application/json, text/plain, */*',\n",
    "    'Accept-Encoding': 'gzip, deflate, br',\n",
    "    'Accept-Language': 'pt-BR,pt;q=0.9,en-US;q=0.8,en;q=0.7',\n",
    "    'Connection': 'keep-alive',\n",
    "}\n",
    "\n",
    "endnode = \"http://api.sidra.ibge.gov.br/values/t/3170/p/2010/v/842/N102/in%20n6%202408102\"\n",
    "response = requests.get(endnode,headers=headers)\n",
    "raw_data_income = response.json()"
   ]
  },
  {
   "cell_type": "code",
   "execution_count": 3,
   "metadata": {},
   "outputs": [],
   "source": [
    "# Recover the number of inhabitants\n",
    "endnode_people = \"http://api.sidra.ibge.gov.br/values/t/3170/p/2010/v/841/N102/in%20n6%202408102\"\n",
    "response = requests.get(endnode_people,headers=headers)\n",
    "raw_data_people = response.json()"
   ]
  },
  {
   "cell_type": "markdown",
   "metadata": {},
   "source": [
    "The variables 842 and 841 give us, respectivelly, the information about income and population of each neighborhood. Now we take a look at the responses to find out the meaning of each key-value pair."
   ]
  },
  {
   "cell_type": "code",
   "execution_count": 4,
   "metadata": {},
   "outputs": [
    {
     "data": {
      "text/plain": [
       "{'NC': 'Nível Territorial (Código)',\n",
       " 'NN': 'Nível Territorial',\n",
       " 'MC': 'Unidade de Medida (Código)',\n",
       " 'MN': 'Unidade de Medida',\n",
       " 'V': 'Valor',\n",
       " 'D1C': 'Ano (Código)',\n",
       " 'D1N': 'Ano',\n",
       " 'D2C': 'Variável (Código)',\n",
       " 'D2N': 'Variável',\n",
       " 'D3C': 'Bairro (Código)',\n",
       " 'D3N': 'Bairro',\n",
       " 'D4C': 'Situação do domicílio (Código)',\n",
       " 'D4N': 'Situação do domicílio',\n",
       " 'D5C': 'Sexo (Código)',\n",
       " 'D5N': 'Sexo',\n",
       " 'D6C': 'Grupo de idade (Código)',\n",
       " 'D6N': 'Grupo de idade'}"
      ]
     },
     "execution_count": 4,
     "metadata": {},
     "output_type": "execute_result"
    }
   ],
   "source": [
    "raw_data_income[0]"
   ]
  },
  {
   "cell_type": "code",
   "execution_count": 5,
   "metadata": {},
   "outputs": [
    {
     "data": {
      "text/plain": [
       "{'NC': 'Nível Territorial (Código)',\n",
       " 'NN': 'Nível Territorial',\n",
       " 'MC': 'Unidade de Medida (Código)',\n",
       " 'MN': 'Unidade de Medida',\n",
       " 'V': 'Valor',\n",
       " 'D1C': 'Ano (Código)',\n",
       " 'D1N': 'Ano',\n",
       " 'D2C': 'Variável (Código)',\n",
       " 'D2N': 'Variável',\n",
       " 'D3C': 'Bairro (Código)',\n",
       " 'D3N': 'Bairro',\n",
       " 'D4C': 'Situação do domicílio (Código)',\n",
       " 'D4N': 'Situação do domicílio',\n",
       " 'D5C': 'Sexo (Código)',\n",
       " 'D5N': 'Sexo',\n",
       " 'D6C': 'Grupo de idade (Código)',\n",
       " 'D6N': 'Grupo de idade'}"
      ]
     },
     "execution_count": 5,
     "metadata": {},
     "output_type": "execute_result"
    }
   ],
   "source": [
    "raw_data_people[0]"
   ]
  },
  {
   "cell_type": "markdown",
   "metadata": {},
   "source": [
    "The keys for neighborhood code, neighborhood name, and value for each variable (income and population), are, in this order, `D3C`, `D3N` and `V`. We use these to build the first dataframes. Only the dataset for income will have the name, because the two datasets will be merged using the neighboorhood code."
   ]
  },
  {
   "cell_type": "code",
   "execution_count": 6,
   "metadata": {},
   "outputs": [],
   "source": [
    "# create a dataset for each json\n",
    "income_df = pd.DataFrame(raw_data_income, columns=['D3C', 'D3N', 'V'])\n",
    "income_df.drop(labels=0, inplace=True)\n",
    "\n",
    "people_df = pd.DataFrame(raw_data_people, columns=['D3C', 'V'])\n",
    "people_df.drop(labels=0, inplace=True)"
   ]
  },
  {
   "cell_type": "code",
   "execution_count": 7,
   "metadata": {},
   "outputs": [
    {
     "name": "stdout",
     "output_type": "stream",
     "text": [
      "          D3C                         D3N        V\n",
      "1  2408102001    Santos Reis - Natal - RN   984.31\n",
      "2  2408102002  Praia do Meio - Natal - RN  1658.16\n",
      "3  2408102003          Rocas - Natal - RN   969.39\n",
      "4  2408102004        Ribeira - Natal - RN  2825.82\n",
      "5  2408102005     Petrópolis - Natal - RN  4736.63\n",
      "          D3C     V\n",
      "1  2408102001  2989\n",
      "2  2408102002  2810\n",
      "3  2408102003  5806\n",
      "4  2408102004  1453\n",
      "5  2408102005  3288\n"
     ]
    }
   ],
   "source": [
    "# quick checkout on the results\n",
    "print(income_df.head())\n",
    "print(people_df.head())"
   ]
  },
  {
   "cell_type": "code",
   "execution_count": 8,
   "metadata": {},
   "outputs": [
    {
     "data": {
      "text/html": [
       "<div>\n",
       "<style scoped>\n",
       "    .dataframe tbody tr th:only-of-type {\n",
       "        vertical-align: middle;\n",
       "    }\n",
       "\n",
       "    .dataframe tbody tr th {\n",
       "        vertical-align: top;\n",
       "    }\n",
       "\n",
       "    .dataframe thead th {\n",
       "        text-align: right;\n",
       "    }\n",
       "</style>\n",
       "<table border=\"1\" class=\"dataframe\">\n",
       "  <thead>\n",
       "    <tr style=\"text-align: right;\">\n",
       "      <th></th>\n",
       "      <th>D3C</th>\n",
       "      <th>D3N</th>\n",
       "      <th>V_x</th>\n",
       "      <th>V_y</th>\n",
       "    </tr>\n",
       "  </thead>\n",
       "  <tbody>\n",
       "    <tr>\n",
       "      <th>0</th>\n",
       "      <td>2408102001</td>\n",
       "      <td>Santos Reis - Natal - RN</td>\n",
       "      <td>984.31</td>\n",
       "      <td>2989</td>\n",
       "    </tr>\n",
       "    <tr>\n",
       "      <th>1</th>\n",
       "      <td>2408102002</td>\n",
       "      <td>Praia do Meio - Natal - RN</td>\n",
       "      <td>1658.16</td>\n",
       "      <td>2810</td>\n",
       "    </tr>\n",
       "    <tr>\n",
       "      <th>2</th>\n",
       "      <td>2408102003</td>\n",
       "      <td>Rocas - Natal - RN</td>\n",
       "      <td>969.39</td>\n",
       "      <td>5806</td>\n",
       "    </tr>\n",
       "    <tr>\n",
       "      <th>3</th>\n",
       "      <td>2408102004</td>\n",
       "      <td>Ribeira - Natal - RN</td>\n",
       "      <td>2825.82</td>\n",
       "      <td>1453</td>\n",
       "    </tr>\n",
       "    <tr>\n",
       "      <th>4</th>\n",
       "      <td>2408102005</td>\n",
       "      <td>Petrópolis - Natal - RN</td>\n",
       "      <td>4736.63</td>\n",
       "      <td>3288</td>\n",
       "    </tr>\n",
       "  </tbody>\n",
       "</table>\n",
       "</div>"
      ],
      "text/plain": [
       "          D3C                         D3N      V_x   V_y\n",
       "0  2408102001    Santos Reis - Natal - RN   984.31  2989\n",
       "1  2408102002  Praia do Meio - Natal - RN  1658.16  2810\n",
       "2  2408102003          Rocas - Natal - RN   969.39  5806\n",
       "3  2408102004        Ribeira - Natal - RN  2825.82  1453\n",
       "4  2408102005     Petrópolis - Natal - RN  4736.63  3288"
      ]
     },
     "execution_count": 8,
     "metadata": {},
     "output_type": "execute_result"
    }
   ],
   "source": [
    "neighborhood_df = income_df.merge(people_df, on='D3C')\n",
    "neighborhood_df.head()"
   ]
  },
  {
   "cell_type": "markdown",
   "metadata": {},
   "source": [
    "Finally, the columns will be renamed. There is a need to remove any accents from the names of the neighborhoods. This is necessary to enable the merge with the geojson data, that only has names, not codes for identifying the regions. Also, the redundant \"- Natal - RN\" must be removed too."
   ]
  },
  {
   "cell_type": "code",
   "execution_count": 9,
   "metadata": {},
   "outputs": [],
   "source": [
    "new_columns = {'V_x':'income', 'D3C':'id', 'D3N':'name', 'V_y':'inhabitants'}\n",
    "neighborhood_df.rename(columns=new_columns, inplace=True)\n",
    "\n",
    "# normalize the names\n",
    "neighborhood_df['name'] = neighborhood_df.name.str.split(pat=' - ', n=1, expand=True)[0]\n",
    "neighborhood_df['name_norm'] = neighborhood_df.name.apply(lambda x:unidecode.unidecode(x))"
   ]
  },
  {
   "cell_type": "code",
   "execution_count": 10,
   "metadata": {},
   "outputs": [
    {
     "data": {
      "text/html": [
       "<div>\n",
       "<style scoped>\n",
       "    .dataframe tbody tr th:only-of-type {\n",
       "        vertical-align: middle;\n",
       "    }\n",
       "\n",
       "    .dataframe tbody tr th {\n",
       "        vertical-align: top;\n",
       "    }\n",
       "\n",
       "    .dataframe thead th {\n",
       "        text-align: right;\n",
       "    }\n",
       "</style>\n",
       "<table border=\"1\" class=\"dataframe\">\n",
       "  <thead>\n",
       "    <tr style=\"text-align: right;\">\n",
       "      <th></th>\n",
       "      <th>id</th>\n",
       "      <th>name</th>\n",
       "      <th>income</th>\n",
       "      <th>inhabitants</th>\n",
       "      <th>name_norm</th>\n",
       "    </tr>\n",
       "  </thead>\n",
       "  <tbody>\n",
       "    <tr>\n",
       "      <th>0</th>\n",
       "      <td>2408102001</td>\n",
       "      <td>Santos Reis</td>\n",
       "      <td>984.31</td>\n",
       "      <td>2989</td>\n",
       "      <td>Santos Reis</td>\n",
       "    </tr>\n",
       "    <tr>\n",
       "      <th>1</th>\n",
       "      <td>2408102002</td>\n",
       "      <td>Praia do Meio</td>\n",
       "      <td>1658.16</td>\n",
       "      <td>2810</td>\n",
       "      <td>Praia do Meio</td>\n",
       "    </tr>\n",
       "    <tr>\n",
       "      <th>2</th>\n",
       "      <td>2408102003</td>\n",
       "      <td>Rocas</td>\n",
       "      <td>969.39</td>\n",
       "      <td>5806</td>\n",
       "      <td>Rocas</td>\n",
       "    </tr>\n",
       "    <tr>\n",
       "      <th>3</th>\n",
       "      <td>2408102004</td>\n",
       "      <td>Ribeira</td>\n",
       "      <td>2825.82</td>\n",
       "      <td>1453</td>\n",
       "      <td>Ribeira</td>\n",
       "    </tr>\n",
       "    <tr>\n",
       "      <th>4</th>\n",
       "      <td>2408102005</td>\n",
       "      <td>Petrópolis</td>\n",
       "      <td>4736.63</td>\n",
       "      <td>3288</td>\n",
       "      <td>Petropolis</td>\n",
       "    </tr>\n",
       "  </tbody>\n",
       "</table>\n",
       "</div>"
      ],
      "text/plain": [
       "           id           name   income inhabitants      name_norm\n",
       "0  2408102001    Santos Reis   984.31        2989    Santos Reis\n",
       "1  2408102002  Praia do Meio  1658.16        2810  Praia do Meio\n",
       "2  2408102003          Rocas   969.39        5806          Rocas\n",
       "3  2408102004        Ribeira  2825.82        1453        Ribeira\n",
       "4  2408102005     Petrópolis  4736.63        3288     Petropolis"
      ]
     },
     "execution_count": 10,
     "metadata": {},
     "output_type": "execute_result"
    }
   ],
   "source": [
    "neighborhood_df.head()"
   ]
  },
  {
   "cell_type": "markdown",
   "metadata": {},
   "source": [
    "Last but not least, we will add the administrative regions or zones, as they are known, to which the districts belong to the Ordinary Law nº 03878/89 of the municipality of Natal. This information was previously inserted into a JSON file"
   ]
  },
  {
   "cell_type": "code",
   "execution_count": 11,
   "metadata": {},
   "outputs": [],
   "source": [
    "with open('../data/interim/zones.json') as fp:\n",
    "    zones = json.load(fp)\n",
    "neighborhood_df['zone'] = neighborhood_df['name'].map(zones) "
   ]
  },
  {
   "cell_type": "code",
   "execution_count": 12,
   "metadata": {},
   "outputs": [
    {
     "data": {
      "text/html": [
       "<div>\n",
       "<style scoped>\n",
       "    .dataframe tbody tr th:only-of-type {\n",
       "        vertical-align: middle;\n",
       "    }\n",
       "\n",
       "    .dataframe tbody tr th {\n",
       "        vertical-align: top;\n",
       "    }\n",
       "\n",
       "    .dataframe thead th {\n",
       "        text-align: right;\n",
       "    }\n",
       "</style>\n",
       "<table border=\"1\" class=\"dataframe\">\n",
       "  <thead>\n",
       "    <tr style=\"text-align: right;\">\n",
       "      <th></th>\n",
       "      <th>id</th>\n",
       "      <th>name</th>\n",
       "      <th>income</th>\n",
       "      <th>inhabitants</th>\n",
       "      <th>name_norm</th>\n",
       "      <th>zone</th>\n",
       "    </tr>\n",
       "  </thead>\n",
       "  <tbody>\n",
       "    <tr>\n",
       "      <th>0</th>\n",
       "      <td>2408102001</td>\n",
       "      <td>Santos Reis</td>\n",
       "      <td>984.31</td>\n",
       "      <td>2989</td>\n",
       "      <td>Santos Reis</td>\n",
       "      <td>East</td>\n",
       "    </tr>\n",
       "    <tr>\n",
       "      <th>1</th>\n",
       "      <td>2408102002</td>\n",
       "      <td>Praia do Meio</td>\n",
       "      <td>1658.16</td>\n",
       "      <td>2810</td>\n",
       "      <td>Praia do Meio</td>\n",
       "      <td>East</td>\n",
       "    </tr>\n",
       "    <tr>\n",
       "      <th>2</th>\n",
       "      <td>2408102003</td>\n",
       "      <td>Rocas</td>\n",
       "      <td>969.39</td>\n",
       "      <td>5806</td>\n",
       "      <td>Rocas</td>\n",
       "      <td>East</td>\n",
       "    </tr>\n",
       "    <tr>\n",
       "      <th>3</th>\n",
       "      <td>2408102004</td>\n",
       "      <td>Ribeira</td>\n",
       "      <td>2825.82</td>\n",
       "      <td>1453</td>\n",
       "      <td>Ribeira</td>\n",
       "      <td>East</td>\n",
       "    </tr>\n",
       "    <tr>\n",
       "      <th>4</th>\n",
       "      <td>2408102005</td>\n",
       "      <td>Petrópolis</td>\n",
       "      <td>4736.63</td>\n",
       "      <td>3288</td>\n",
       "      <td>Petropolis</td>\n",
       "      <td>East</td>\n",
       "    </tr>\n",
       "  </tbody>\n",
       "</table>\n",
       "</div>"
      ],
      "text/plain": [
       "           id           name   income inhabitants      name_norm  zone\n",
       "0  2408102001    Santos Reis   984.31        2989    Santos Reis  East\n",
       "1  2408102002  Praia do Meio  1658.16        2810  Praia do Meio  East\n",
       "2  2408102003          Rocas   969.39        5806          Rocas  East\n",
       "3  2408102004        Ribeira  2825.82        1453        Ribeira  East\n",
       "4  2408102005     Petrópolis  4736.63        3288     Petropolis  East"
      ]
     },
     "execution_count": 12,
     "metadata": {},
     "output_type": "execute_result"
    }
   ],
   "source": [
    "neighborhood_df.head()"
   ]
  },
  {
   "cell_type": "markdown",
   "metadata": {},
   "source": [
    "### Retrieving the centroid of each neighborhood\n",
    "The GeoJSON file provides a polygon that describes Natal geographically. If we get its central point, which means its centroid, we can measure the distance between the center of the area and a point of interest as school, bank, police station, etc. [geopandas](http://geopandas.org/) module is responsible for dealing with this data."
   ]
  },
  {
   "cell_type": "code",
   "execution_count": 13,
   "metadata": {},
   "outputs": [],
   "source": [
    "# load the GeoJSON data and use 'UTF-8'encoding\n",
    "geojson_natal_file = requests.get('https://github.com/nymarya/data-science-one/blob/master/Lesson%2314/natal.geojson?raw=true')\n",
    "geo_json_natal = geojson_natal_file.json()"
   ]
  },
  {
   "cell_type": "code",
   "execution_count": 14,
   "metadata": {},
   "outputs": [],
   "source": [
    "# save it in a local file\n",
    "with open('../data/external/natal.geojson', 'w') as file:  \n",
    "    json.dump(geo_json_natal, file)\n",
    "    \n",
    "geojson_df = gpd.read_file(\"../data/external/natal.geojson\")"
   ]
  },
  {
   "cell_type": "markdown",
   "metadata": {},
   "source": [
    "Let's make sure that the data is all there"
   ]
  },
  {
   "cell_type": "code",
   "execution_count": 15,
   "metadata": {},
   "outputs": [
    {
     "data": {
      "text/html": [
       "<div>\n",
       "<style scoped>\n",
       "    .dataframe tbody tr th:only-of-type {\n",
       "        vertical-align: middle;\n",
       "    }\n",
       "\n",
       "    .dataframe tbody tr th {\n",
       "        vertical-align: top;\n",
       "    }\n",
       "\n",
       "    .dataframe thead th {\n",
       "        text-align: right;\n",
       "    }\n",
       "</style>\n",
       "<table border=\"1\" class=\"dataframe\">\n",
       "  <thead>\n",
       "    <tr style=\"text-align: right;\">\n",
       "      <th></th>\n",
       "      <th>id</th>\n",
       "      <th>@id</th>\n",
       "      <th>admin_level</th>\n",
       "      <th>boundary</th>\n",
       "      <th>is_in</th>\n",
       "      <th>name</th>\n",
       "      <th>place</th>\n",
       "      <th>type</th>\n",
       "      <th>alt_name</th>\n",
       "      <th>wikidata</th>\n",
       "      <th>geometry</th>\n",
       "    </tr>\n",
       "  </thead>\n",
       "  <tbody>\n",
       "    <tr>\n",
       "      <th>0</th>\n",
       "      <td>relation/388146</td>\n",
       "      <td>relation/388146</td>\n",
       "      <td>10</td>\n",
       "      <td>administrative</td>\n",
       "      <td>Natal</td>\n",
       "      <td>Pitimbu</td>\n",
       "      <td>suburb</td>\n",
       "      <td>boundary</td>\n",
       "      <td>None</td>\n",
       "      <td>None</td>\n",
       "      <td>POLYGON ((-35.24373 -5.84203, -35.24379 -5.842...</td>\n",
       "    </tr>\n",
       "    <tr>\n",
       "      <th>1</th>\n",
       "      <td>relation/388147</td>\n",
       "      <td>relation/388147</td>\n",
       "      <td>10</td>\n",
       "      <td>administrative</td>\n",
       "      <td>Natal</td>\n",
       "      <td>Planalto</td>\n",
       "      <td>suburb</td>\n",
       "      <td>boundary</td>\n",
       "      <td>None</td>\n",
       "      <td>None</td>\n",
       "      <td>POLYGON ((-35.25382 -5.86629, -35.25361 -5.866...</td>\n",
       "    </tr>\n",
       "    <tr>\n",
       "      <th>2</th>\n",
       "      <td>relation/397022</td>\n",
       "      <td>relation/397022</td>\n",
       "      <td>10</td>\n",
       "      <td>administrative</td>\n",
       "      <td>Natal</td>\n",
       "      <td>Ponta Negra</td>\n",
       "      <td>suburb</td>\n",
       "      <td>boundary</td>\n",
       "      <td>None</td>\n",
       "      <td>None</td>\n",
       "      <td>POLYGON ((-35.18902 -5.89079, -35.18895 -5.890...</td>\n",
       "    </tr>\n",
       "    <tr>\n",
       "      <th>3</th>\n",
       "      <td>relation/1230018</td>\n",
       "      <td>relation/1230018</td>\n",
       "      <td>10</td>\n",
       "      <td>administrative</td>\n",
       "      <td>Natal</td>\n",
       "      <td>Neópolis</td>\n",
       "      <td>suburb</td>\n",
       "      <td>boundary</td>\n",
       "      <td>None</td>\n",
       "      <td>None</td>\n",
       "      <td>POLYGON ((-35.20031 -5.87341, -35.19996 -5.873...</td>\n",
       "    </tr>\n",
       "    <tr>\n",
       "      <th>4</th>\n",
       "      <td>relation/1230020</td>\n",
       "      <td>relation/1230020</td>\n",
       "      <td>10</td>\n",
       "      <td>administrative</td>\n",
       "      <td>Natal</td>\n",
       "      <td>Capim Macio</td>\n",
       "      <td>suburb</td>\n",
       "      <td>boundary</td>\n",
       "      <td>None</td>\n",
       "      <td>None</td>\n",
       "      <td>POLYGON ((-35.18946 -5.87242, -35.18907 -5.871...</td>\n",
       "    </tr>\n",
       "  </tbody>\n",
       "</table>\n",
       "</div>"
      ],
      "text/plain": [
       "                 id               @id admin_level        boundary  is_in  \\\n",
       "0   relation/388146   relation/388146          10  administrative  Natal   \n",
       "1   relation/388147   relation/388147          10  administrative  Natal   \n",
       "2   relation/397022   relation/397022          10  administrative  Natal   \n",
       "3  relation/1230018  relation/1230018          10  administrative  Natal   \n",
       "4  relation/1230020  relation/1230020          10  administrative  Natal   \n",
       "\n",
       "          name   place      type alt_name wikidata  \\\n",
       "0      Pitimbu  suburb  boundary     None     None   \n",
       "1     Planalto  suburb  boundary     None     None   \n",
       "2  Ponta Negra  suburb  boundary     None     None   \n",
       "3     Neópolis  suburb  boundary     None     None   \n",
       "4  Capim Macio  suburb  boundary     None     None   \n",
       "\n",
       "                                            geometry  \n",
       "0  POLYGON ((-35.24373 -5.84203, -35.24379 -5.842...  \n",
       "1  POLYGON ((-35.25382 -5.86629, -35.25361 -5.866...  \n",
       "2  POLYGON ((-35.18902 -5.89079, -35.18895 -5.890...  \n",
       "3  POLYGON ((-35.20031 -5.87341, -35.19996 -5.873...  \n",
       "4  POLYGON ((-35.18946 -5.87242, -35.18907 -5.871...  "
      ]
     },
     "execution_count": 15,
     "metadata": {},
     "output_type": "execute_result"
    }
   ],
   "source": [
    "geojson_df.head()"
   ]
  },
  {
   "cell_type": "code",
   "execution_count": 16,
   "metadata": {},
   "outputs": [
    {
     "data": {
      "text/plain": [
       "array(['Pitimbu', 'Planalto', 'Ponta Negra', 'Neópolis', 'Capim Macio',\n",
       "       'Lagoa Azul', 'Pajuçara', 'Lagoa Seca', 'Barro Vermelho',\n",
       "       'Candelária', 'Praia do Meio', 'Rocas', 'Santos Reis', 'Redinha',\n",
       "       'Salinas', 'Igapó', 'Nossa Senhora da Apresentação', 'Potengi',\n",
       "       'Ribeira', 'Cidade Alta', 'Alecrim', 'Nordeste', 'Quintas',\n",
       "       'Bom Pastor', 'Dix-Sept Rosado', 'Nossa Senhora de Nazaré',\n",
       "       'Lagoa Nova', 'Mãe Luiza', 'Nova Descoberta', 'Tirol',\n",
       "       'Petrópolis', 'Areia Preta', 'Cidade Nova', 'Cidade da Esperança',\n",
       "       'Felipe Camarão', 'Guarapes'], dtype=object)"
      ]
     },
     "execution_count": 16,
     "metadata": {},
     "output_type": "execute_result"
    }
   ],
   "source": [
    "geojson_df.name.unique()"
   ]
  },
  {
   "cell_type": "code",
   "execution_count": 17,
   "metadata": {},
   "outputs": [],
   "source": [
    "n_neighborhoods1 = len(neighborhood_df.name.unique())\n",
    "n_neighborhoods2 = len(geojson_df.name.unique())\n",
    "assert n_neighborhoods1 == n_neighborhoods2"
   ]
  },
  {
   "cell_type": "markdown",
   "metadata": {},
   "source": [
    "Knowing that the polygon is a complex structure/data type, merging the datasets using pandas is also complex. So in this step, we merge the datasets and then extract the x and y."
   ]
  },
  {
   "cell_type": "code",
   "execution_count": 18,
   "metadata": {},
   "outputs": [
    {
     "data": {
      "text/html": [
       "<div>\n",
       "<style scoped>\n",
       "    .dataframe tbody tr th:only-of-type {\n",
       "        vertical-align: middle;\n",
       "    }\n",
       "\n",
       "    .dataframe tbody tr th {\n",
       "        vertical-align: top;\n",
       "    }\n",
       "\n",
       "    .dataframe thead th {\n",
       "        text-align: right;\n",
       "    }\n",
       "</style>\n",
       "<table border=\"1\" class=\"dataframe\">\n",
       "  <thead>\n",
       "    <tr style=\"text-align: right;\">\n",
       "      <th></th>\n",
       "      <th>id</th>\n",
       "      <th>name</th>\n",
       "      <th>income</th>\n",
       "      <th>inhabitants</th>\n",
       "      <th>name_norm</th>\n",
       "      <th>zone</th>\n",
       "      <th>geometry</th>\n",
       "    </tr>\n",
       "  </thead>\n",
       "  <tbody>\n",
       "    <tr>\n",
       "      <th>0</th>\n",
       "      <td>2408102001</td>\n",
       "      <td>Santos Reis</td>\n",
       "      <td>984.31</td>\n",
       "      <td>2989</td>\n",
       "      <td>Santos Reis</td>\n",
       "      <td>East</td>\n",
       "      <td>POLYGON ((-35.20819 -5.76785, -35.20420 -5.768...</td>\n",
       "    </tr>\n",
       "    <tr>\n",
       "      <th>1</th>\n",
       "      <td>2408102002</td>\n",
       "      <td>Praia do Meio</td>\n",
       "      <td>1658.16</td>\n",
       "      <td>2810</td>\n",
       "      <td>Praia do Meio</td>\n",
       "      <td>East</td>\n",
       "      <td>POLYGON ((-35.19504 -5.77323, -35.19513 -5.773...</td>\n",
       "    </tr>\n",
       "    <tr>\n",
       "      <th>2</th>\n",
       "      <td>2408102003</td>\n",
       "      <td>Rocas</td>\n",
       "      <td>969.39</td>\n",
       "      <td>5806</td>\n",
       "      <td>Rocas</td>\n",
       "      <td>East</td>\n",
       "      <td>POLYGON ((-35.19664 -5.77523, -35.19653 -5.774...</td>\n",
       "    </tr>\n",
       "    <tr>\n",
       "      <th>3</th>\n",
       "      <td>2408102004</td>\n",
       "      <td>Ribeira</td>\n",
       "      <td>2825.82</td>\n",
       "      <td>1453</td>\n",
       "      <td>Ribeira</td>\n",
       "      <td>East</td>\n",
       "      <td>POLYGON ((-35.20412 -5.76860, -35.20420 -5.768...</td>\n",
       "    </tr>\n",
       "    <tr>\n",
       "      <th>4</th>\n",
       "      <td>2408102005</td>\n",
       "      <td>Petrópolis</td>\n",
       "      <td>4736.63</td>\n",
       "      <td>3288</td>\n",
       "      <td>Petropolis</td>\n",
       "      <td>East</td>\n",
       "      <td>POLYGON ((-35.19536 -5.78434, -35.19532 -5.784...</td>\n",
       "    </tr>\n",
       "  </tbody>\n",
       "</table>\n",
       "</div>"
      ],
      "text/plain": [
       "           id           name   income inhabitants      name_norm  zone  \\\n",
       "0  2408102001    Santos Reis   984.31        2989    Santos Reis  East   \n",
       "1  2408102002  Praia do Meio  1658.16        2810  Praia do Meio  East   \n",
       "2  2408102003          Rocas   969.39        5806          Rocas  East   \n",
       "3  2408102004        Ribeira  2825.82        1453        Ribeira  East   \n",
       "4  2408102005     Petrópolis  4736.63        3288     Petropolis  East   \n",
       "\n",
       "                                            geometry  \n",
       "0  POLYGON ((-35.20819 -5.76785, -35.20420 -5.768...  \n",
       "1  POLYGON ((-35.19504 -5.77323, -35.19513 -5.773...  \n",
       "2  POLYGON ((-35.19664 -5.77523, -35.19653 -5.774...  \n",
       "3  POLYGON ((-35.20412 -5.76860, -35.20420 -5.768...  \n",
       "4  POLYGON ((-35.19536 -5.78434, -35.19532 -5.784...  "
      ]
     },
     "execution_count": 18,
     "metadata": {},
     "output_type": "execute_result"
    }
   ],
   "source": [
    "# fix typo\n",
    "typo_df = geojson_df.query('name == \"Felipe Camarão\"')\n",
    "geojson_df.loc[typo_df.index.values, 'name'] = 'Filipe Camarão'\n",
    "\n",
    "# save each coordinate\n",
    "geojson_df['name_norm'] = geojson_df.name.apply(lambda x:unidecode.unidecode(x))\n",
    "neighborhood_df = neighborhood_df.merge(geojson_df[['name_norm', 'geometry']], on='name_norm')\n",
    "\n",
    "\n",
    "neighborhood_df.head()"
   ]
  },
  {
   "cell_type": "code",
   "execution_count": 19,
   "metadata": {},
   "outputs": [
    {
     "data": {
      "text/html": [
       "<div>\n",
       "<style scoped>\n",
       "    .dataframe tbody tr th:only-of-type {\n",
       "        vertical-align: middle;\n",
       "    }\n",
       "\n",
       "    .dataframe tbody tr th {\n",
       "        vertical-align: top;\n",
       "    }\n",
       "\n",
       "    .dataframe thead th {\n",
       "        text-align: right;\n",
       "    }\n",
       "</style>\n",
       "<table border=\"1\" class=\"dataframe\">\n",
       "  <thead>\n",
       "    <tr style=\"text-align: right;\">\n",
       "      <th></th>\n",
       "      <th>id</th>\n",
       "      <th>name</th>\n",
       "      <th>income</th>\n",
       "      <th>inhabitants</th>\n",
       "      <th>name_norm</th>\n",
       "      <th>zone</th>\n",
       "      <th>geometry</th>\n",
       "      <th>x</th>\n",
       "      <th>y</th>\n",
       "    </tr>\n",
       "  </thead>\n",
       "  <tbody>\n",
       "    <tr>\n",
       "      <th>0</th>\n",
       "      <td>2408102001</td>\n",
       "      <td>Santos Reis</td>\n",
       "      <td>984.31</td>\n",
       "      <td>2989</td>\n",
       "      <td>Santos Reis</td>\n",
       "      <td>East</td>\n",
       "      <td>POLYGON ((-35.20819 -5.76785, -35.20420 -5.768...</td>\n",
       "      <td>-35.199888</td>\n",
       "      <td>-5.762731</td>\n",
       "    </tr>\n",
       "    <tr>\n",
       "      <th>1</th>\n",
       "      <td>2408102002</td>\n",
       "      <td>Praia do Meio</td>\n",
       "      <td>1658.16</td>\n",
       "      <td>2810</td>\n",
       "      <td>Praia do Meio</td>\n",
       "      <td>East</td>\n",
       "      <td>POLYGON ((-35.19504 -5.77323, -35.19513 -5.773...</td>\n",
       "      <td>-35.195083</td>\n",
       "      <td>-5.778860</td>\n",
       "    </tr>\n",
       "    <tr>\n",
       "      <th>2</th>\n",
       "      <td>2408102003</td>\n",
       "      <td>Rocas</td>\n",
       "      <td>969.39</td>\n",
       "      <td>5806</td>\n",
       "      <td>Rocas</td>\n",
       "      <td>East</td>\n",
       "      <td>POLYGON ((-35.19664 -5.77523, -35.19653 -5.774...</td>\n",
       "      <td>-35.200216</td>\n",
       "      <td>-5.774142</td>\n",
       "    </tr>\n",
       "    <tr>\n",
       "      <th>3</th>\n",
       "      <td>2408102004</td>\n",
       "      <td>Ribeira</td>\n",
       "      <td>2825.82</td>\n",
       "      <td>1453</td>\n",
       "      <td>Ribeira</td>\n",
       "      <td>East</td>\n",
       "      <td>POLYGON ((-35.20412 -5.76860, -35.20420 -5.768...</td>\n",
       "      <td>-35.205768</td>\n",
       "      <td>-5.776236</td>\n",
       "    </tr>\n",
       "    <tr>\n",
       "      <th>4</th>\n",
       "      <td>2408102005</td>\n",
       "      <td>Petrópolis</td>\n",
       "      <td>4736.63</td>\n",
       "      <td>3288</td>\n",
       "      <td>Petropolis</td>\n",
       "      <td>East</td>\n",
       "      <td>POLYGON ((-35.19536 -5.78434, -35.19532 -5.784...</td>\n",
       "      <td>-35.198393</td>\n",
       "      <td>-5.784591</td>\n",
       "    </tr>\n",
       "  </tbody>\n",
       "</table>\n",
       "</div>"
      ],
      "text/plain": [
       "           id           name   income inhabitants      name_norm  zone  \\\n",
       "0  2408102001    Santos Reis   984.31        2989    Santos Reis  East   \n",
       "1  2408102002  Praia do Meio  1658.16        2810  Praia do Meio  East   \n",
       "2  2408102003          Rocas   969.39        5806          Rocas  East   \n",
       "3  2408102004        Ribeira  2825.82        1453        Ribeira  East   \n",
       "4  2408102005     Petrópolis  4736.63        3288     Petropolis  East   \n",
       "\n",
       "                                            geometry          x         y  \n",
       "0  POLYGON ((-35.20819 -5.76785, -35.20420 -5.768... -35.199888 -5.762731  \n",
       "1  POLYGON ((-35.19504 -5.77323, -35.19513 -5.773... -35.195083 -5.778860  \n",
       "2  POLYGON ((-35.19664 -5.77523, -35.19653 -5.774... -35.200216 -5.774142  \n",
       "3  POLYGON ((-35.20412 -5.76860, -35.20420 -5.768... -35.205768 -5.776236  \n",
       "4  POLYGON ((-35.19536 -5.78434, -35.19532 -5.784... -35.198393 -5.784591  "
      ]
     },
     "execution_count": 19,
     "metadata": {},
     "output_type": "execute_result"
    }
   ],
   "source": [
    "# create columns in the main df for the centroid\n",
    "neighborhood_df['x'] = neighborhood_df.geometry.apply(lambda x: Polygon(x).centroid.x) # lon\n",
    "neighborhood_df['y'] = neighborhood_df.geometry.apply(lambda x: Polygon(x).centroid.y) # lat \n",
    "\n",
    "neighborhood_df.head()"
   ]
  },
  {
   "cell_type": "markdown",
   "metadata": {},
   "source": [
    "### Calculating the distance\n",
    "After a search for the bbox coordinates in [https://boundingbox.klokantech.com](https://boundingbox.klokantech.com), we create a [Pandana](https://udst.github.io/pandana/network.html) network for Natal. Pandana provides efficent ways to calculate distances."
   ]
  },
  {
   "cell_type": "code",
   "execution_count": 20,
   "metadata": {},
   "outputs": [],
   "source": [
    "bbox=[-5.90021100,-35.29126300,-5.70272200,-35.1531030]"
   ]
  },
  {
   "cell_type": "code",
   "execution_count": null,
   "metadata": {},
   "outputs": [
    {
     "name": "stdout",
     "output_type": "stream",
     "text": [
      "Requesting network data within bounding box from Overpass API in 1 request(s)\n",
      "Posting to http://www.overpass-api.de/api/interpreter with timeout=180, \"{'data': '[out:json][timeout:180];(way[\"highway\"][\"highway\"!~\"motor|proposed|construction|abandoned|platform|raceway\"][\"foot\"!~\"no\"][\"pedestrians\"!~\"no\"](-5.90021100,-35.29126300,-5.70272200,-35.15310300);>;);out;'}\"\n",
      "Downloaded 12,474.1KB from www.overpass-api.de in 4.27 seconds\n",
      "Downloaded OSM network data within bounding box from Overpass API in 1 request(s) and 4.54 seconds\n",
      "Returning OSM data with 84,321 nodes and 21,376 ways...\n"
     ]
    }
   ],
   "source": [
    "net = osm.pdna_network_from_bbox(*bbox)\n",
    "\n",
    "net.precompute(5000)\n",
    "net.edges_df.head(2)"
   ]
  },
  {
   "cell_type": "markdown",
   "metadata": {},
   "source": [
    "A quick test: retrieving the centroid of a neighborhood, and using `get_node_ids(x, y)` to get the node in the network closer to the point. That way, we can check the osmid and see if the node is really in the center of the area."
   ]
  },
  {
   "cell_type": "code",
   "execution_count": null,
   "metadata": {},
   "outputs": [],
   "source": [
    "nordeste = neighborhood_df.query(\"name == 'Nordeste'\")\n",
    "x = nordeste.x.tolist()[0]\n",
    "y = nordeste.y.tolist()[0]\n",
    "neighborhood_node_id = net.get_node_ids([x], [y])\n",
    "neighborhood_node_id"
   ]
  },
  {
   "cell_type": "markdown",
   "metadata": {},
   "source": [
    "The result is available [here](https://overpass-turbo.eu/s/190G)."
   ]
  },
  {
   "cell_type": "markdown",
   "metadata": {},
   "source": [
    "#### Testing pandana `nearest_pois`\n",
    "\n",
    "Let's make a quick test: search amenities for *one* neighborhood and see if we can calculate the distances. Code mostly from [Pandana demo](https://github.com/UDST/pandana/blob/dev/examples/Pandana-demo.ipynb)"
   ]
  },
  {
   "cell_type": "code",
   "execution_count": null,
   "metadata": {},
   "outputs": [],
   "source": [
    "schools = osm.node_query(*bbox, tags='\"amenity\"=\"school\"')\n",
    "schools.head(2)"
   ]
  },
  {
   "cell_type": "code",
   "execution_count": null,
   "metadata": {},
   "outputs": [],
   "source": [
    "# set_pois receives longitude (x) and then latitude (y)\n",
    "net.set_pois(\"schools\", 10000, 10, schools.lon, schools.lat)\n"
   ]
  },
  {
   "cell_type": "code",
   "execution_count": null,
   "metadata": {},
   "outputs": [],
   "source": [
    "# get the 10 nearest schools for each node\n",
    "result = net.nearest_pois(10000, \"schools\", num_pois=10)\n",
    "result"
   ]
  },
  {
   "cell_type": "markdown",
   "metadata": {},
   "source": [
    "We can find the smallest distance for the point retrieved earlier, the centroid of Nordeste, and get the distances for the 10 nearest schools around it."
   ]
  },
  {
   "cell_type": "code",
   "execution_count": null,
   "metadata": {},
   "outputs": [],
   "source": [
    "neighborhood_node_id = net.get_node_ids([x], [y])\n",
    "neighborhood_node_id"
   ]
  },
  {
   "cell_type": "code",
   "execution_count": null,
   "metadata": {},
   "outputs": [],
   "source": [
    "result.loc[neighborhood_node_id[0],:]"
   ]
  },
  {
   "cell_type": "markdown",
   "metadata": {},
   "source": [
    "#### Calcutate the distance\n",
    "\n",
    "Now, we can repeat all these steps for all neighborhoods and save them"
   ]
  },
  {
   "cell_type": "code",
   "execution_count": null,
   "metadata": {},
   "outputs": [],
   "source": [
    "amenities = ['hospital', 'restaurant', 'bank','school', 'police', 'pharmacy']\n",
    "# create string for query that must be in form: \"amenity\"~\"hospital|bank...\"\n",
    "amenities_tag = '|'.join(amenities)\n",
    "print(amenities_tag)\n",
    "\n",
    "# create new columns\n",
    "cols = ['nearest_' + amenity for amenity in amenities]\n",
    "neighborhood_df = neighborhood_df.reindex(columns=neighborhood_df.columns.tolist() + cols)"
   ]
  },
  {
   "cell_type": "code",
   "execution_count": null,
   "metadata": {},
   "outputs": [],
   "source": [
    "all_pois = osm.node_query(*bbox, tags=f'\"amenity\"~\"{amenities_tag}\"')\n",
    "for amenity in amenities:\n",
    "    pois = all_pois.query(f\"amenity == '{amenity}'\")\n",
    "    # set pois for amenity\n",
    "    net.set_pois(amenity, 10000, 10, pois.lon, pois.lat)\n",
    "    \n",
    "    # get 10 nearest pois\n",
    "    result = net.nearest_pois(10000, amenity, num_pois=10)\n",
    "    \n",
    "    \n",
    "    for name in neighborhood_df.name.values:\n",
    "        # get centroid\n",
    "        neighborhood = neighborhood_df.query(f\"name == '{name}'\")\n",
    "        x = neighborhood.x.tolist()[0]\n",
    "        y = neighborhood.y.tolist()[0]\n",
    "        \n",
    "        # get node for centroid\n",
    "        neighborhood_node_id = net.get_node_ids([x], [y])\n",
    "        \n",
    "        # get distance between closer amenity and centroid \n",
    "        distance = result.loc[neighborhood_node_id[0], 1]\n",
    "        # update dataframe\n",
    "        neighborhood_df.loc[neighborhood.index, f'nearest_{amenity}'] = distance"
   ]
  },
  {
   "cell_type": "code",
   "execution_count": null,
   "metadata": {},
   "outputs": [],
   "source": [
    "neighborhood_df.head()"
   ]
  },
  {
   "cell_type": "markdown",
   "metadata": {},
   "source": [
    "Finally, save dataset to use it in the the next step: creating maps."
   ]
  },
  {
   "cell_type": "code",
   "execution_count": null,
   "metadata": {},
   "outputs": [],
   "source": [
    "neighborhood_df.to_csv('../data/processed/neighbourhoods.csv')"
   ]
  },
  {
   "cell_type": "markdown",
   "metadata": {},
   "source": [
    "### Extra: create a visualization\n",
    "Our goal is to compare the districts, which is not possible using Pandana. However, we can get a initial idea for the whole city. We will count how many schools there are 5km around each node."
   ]
  },
  {
   "cell_type": "code",
   "execution_count": null,
   "metadata": {},
   "outputs": [],
   "source": [
    "# set variables\n",
    "school_nodes = net.get_node_ids(schools.lon, schools.lat)\n",
    "net.set(school_nodes, name = 'schools')\n",
    "accessibility = net.aggregate(distance = 10000,\n",
    "                              type = 'count',\n",
    "                              name = 'schools')"
   ]
  },
  {
   "cell_type": "code",
   "execution_count": null,
   "metadata": {},
   "outputs": [],
   "source": [
    "import matplotlib\n",
    "from matplotlib import pyplot as plt\n",
    "fig, ax = plt.subplots(figsize=(8,10))\n",
    "ax.set_facecolor('black')\n",
    "plt.title('Natal: Schools within 10km')\n",
    "plt.scatter(net.nodes_df.x, net.nodes_df.y, \n",
    "            c=accessibility, s=1, cmap='YlOrRd')\n",
    "cb = plt.colorbar()\n",
    "plt.savefig('../reports/figures/distances_cmap1.png')\n",
    "\n",
    "plt.show()"
   ]
  },
  {
   "cell_type": "code",
   "execution_count": null,
   "metadata": {},
   "outputs": [],
   "source": [
    "fig, ax = plt.subplots(figsize=(20,18))\n",
    "ax.set_facecolor('black')\n",
    "plt.scatter(net.nodes_df.x, net.nodes_df.y, \n",
    "            c=accessibility, s=1, cmap='YlOrRd', facecolor='black')\n",
    "ax.get_xaxis().set_visible(False)\n",
    "ax.get_yaxis().set_visible(False)\n",
    "plt.savefig('../reports/figures/distances_cmap.png')\n",
    "plt.show()"
   ]
  }
 ],
 "metadata": {
  "kernelspec": {
   "display_name": "Python 3",
   "language": "python",
   "name": "python3"
  },
  "language_info": {
   "codemirror_mode": {
    "name": "ipython",
    "version": 3
   },
   "file_extension": ".py",
   "mimetype": "text/x-python",
   "name": "python",
   "nbconvert_exporter": "python",
   "pygments_lexer": "ipython3",
   "version": "3.7.10"
  }
 },
 "nbformat": 4,
 "nbformat_minor": 4
}
